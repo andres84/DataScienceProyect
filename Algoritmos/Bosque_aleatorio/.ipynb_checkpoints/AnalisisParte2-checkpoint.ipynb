{
 "cells": [
  {
   "cell_type": "markdown",
   "id": "b277fdb3-7162-4b53-bb86-6e517fdb8dab",
   "metadata": {},
   "source": [
    "El bosque aleatorio es un tipo de algoritmo de Machine Learning supervisado basado en aprendizaje conjunto. El aprendizaje conjunto es un tipo de aprendizaje en el que se combinan diferentes tipos de algoritmos o el mismo algoritmo varias veces para formar un modelo de predicción más potente. los Random Forest El algoritmo combina varios algoritmos del mismo tipo, es decir, varios árboles de decisión, lo que da como resultado un bosque de árboles, de ahí el nombre «Bosque aleatorio». El algoritmo de bosque aleatorio se puede utilizar para tareas de regresión y clasificación."
   ]
  },
  {
   "cell_type": "markdown",
   "id": "faf26de0-fee4-44a0-8a4d-f45b7b94fcf5",
   "metadata": {},
   "source": [
    "Los siguientes son los pasos básicos involucrados en la realización del algoritmo de bosque aleatorio:\n",
    "\n",
    "* Elija N registros aleatorios del conjunto de datos.\n",
    "* Cree un árbol de decisiones basado en estos N registros.\n",
    "* Elija la cantidad de árboles que desee en su algoritmo y repita los pasos 1 y 2.\n",
    "* En caso de un problema de regresión, para un nuevo registro, cada árbol del bosque predice un valor para Y (salida).\n",
    "El valor final se puede calcular tomando el promedio de todos los valores predichos por todos los árboles del bosque. \n",
    "O, en caso de un problema de clasificación, cada árbol del bosque predice la categoría a la que pertenece el nuevo registro. \n",
    "Finalmente, el nuevo récord se asigna a la categoría que obtiene la mayoría de votos."
   ]
  },
  {
   "cell_type": "markdown",
   "id": "16449e53-ca15-44cf-a922-511f273d34fc",
   "metadata": {},
   "source": [
    "### La regresion es un proceso estadistico para estimar las relaciones entre variables."
   ]
  },
  {
   "cell_type": "markdown",
   "id": "a44e4181-357a-45ac-bb0f-3743ddef6df9",
   "metadata": {},
   "source": [
    "En esta sección, estudiaremos cómo se pueden usar los bosques aleatorios para resolver problemas de regresión usando Scikit-Learn. En la siguiente sección resolveremos el problema de clasificación a través de bosques aleatorios."
   ]
  },
  {
   "cell_type": "markdown",
   "id": "d98a8f24-db85-46ed-9c6f-cc3593ce4dc7",
   "metadata": {},
   "source": [
    "El problema aquí es predecir el consumo de gas (en millones de galones) en 48 de los estados de EE. UU. Con base en el impuesto a la gasolina (en centavos), el ingreso per cápita (dólares), las carreteras pavimentadas (en millas) y la proporción de la población con el licencia de conducir."
   ]
  },
  {
   "cell_type": "markdown",
   "id": "5092edc1-1e52-4861-831c-57ba99970a61",
   "metadata": {},
   "source": [
    "Para resolver este problema de regresión usaremos el algoritmo de bosque aleatorio a través de la biblioteca de Python de Scikit-Learn. Seguiremos el proceso tradicional de Machine Learning para resolver este problema."
   ]
  },
  {
   "cell_type": "code",
   "execution_count": 2,
   "id": "85264b75-03eb-4025-9c7b-139cb5dff2de",
   "metadata": {},
   "outputs": [],
   "source": [
    "# Se importan las librerias\n",
    "import pandas as pd\n",
    "import numpy as np"
   ]
  },
  {
   "cell_type": "code",
   "execution_count": 3,
   "id": "d447b968-c876-4643-a2a8-812c519ae544",
   "metadata": {},
   "outputs": [],
   "source": [
    "# Cargar dataset\n",
    "dataset = pd.read_csv('petrol_consumption.csv')"
   ]
  },
  {
   "cell_type": "code",
   "execution_count": 27,
   "id": "673ad8b3-bb2a-4b4f-a62f-3019f27760fc",
   "metadata": {},
   "outputs": [
    {
     "data": {
      "text/html": [
       "<div>\n",
       "<style scoped>\n",
       "    .dataframe tbody tr th:only-of-type {\n",
       "        vertical-align: middle;\n",
       "    }\n",
       "\n",
       "    .dataframe tbody tr th {\n",
       "        vertical-align: top;\n",
       "    }\n",
       "\n",
       "    .dataframe thead th {\n",
       "        text-align: right;\n",
       "    }\n",
       "</style>\n",
       "<table border=\"1\" class=\"dataframe\">\n",
       "  <thead>\n",
       "    <tr style=\"text-align: right;\">\n",
       "      <th></th>\n",
       "      <th>Petrol_tax</th>\n",
       "      <th>Average_income</th>\n",
       "      <th>Paved_Highways</th>\n",
       "      <th>Population_Driver_licence(%)</th>\n",
       "      <th>Petrol_Consumption</th>\n",
       "    </tr>\n",
       "  </thead>\n",
       "  <tbody>\n",
       "    <tr>\n",
       "      <th>0</th>\n",
       "      <td>9.0</td>\n",
       "      <td>3571</td>\n",
       "      <td>1976</td>\n",
       "      <td>0.525</td>\n",
       "      <td>541</td>\n",
       "    </tr>\n",
       "    <tr>\n",
       "      <th>1</th>\n",
       "      <td>9.0</td>\n",
       "      <td>4092</td>\n",
       "      <td>1250</td>\n",
       "      <td>0.572</td>\n",
       "      <td>524</td>\n",
       "    </tr>\n",
       "    <tr>\n",
       "      <th>2</th>\n",
       "      <td>9.0</td>\n",
       "      <td>3865</td>\n",
       "      <td>1586</td>\n",
       "      <td>0.580</td>\n",
       "      <td>561</td>\n",
       "    </tr>\n",
       "    <tr>\n",
       "      <th>3</th>\n",
       "      <td>7.5</td>\n",
       "      <td>4870</td>\n",
       "      <td>2351</td>\n",
       "      <td>0.529</td>\n",
       "      <td>414</td>\n",
       "    </tr>\n",
       "    <tr>\n",
       "      <th>4</th>\n",
       "      <td>8.0</td>\n",
       "      <td>4399</td>\n",
       "      <td>431</td>\n",
       "      <td>0.544</td>\n",
       "      <td>410</td>\n",
       "    </tr>\n",
       "  </tbody>\n",
       "</table>\n",
       "</div>"
      ],
      "text/plain": [
       "   Petrol_tax  Average_income  Paved_Highways  Population_Driver_licence(%)  \\\n",
       "0         9.0            3571            1976                         0.525   \n",
       "1         9.0            4092            1250                         0.572   \n",
       "2         9.0            3865            1586                         0.580   \n",
       "3         7.5            4870            2351                         0.529   \n",
       "4         8.0            4399             431                         0.544   \n",
       "\n",
       "   Petrol_Consumption  \n",
       "0                 541  \n",
       "1                 524  \n",
       "2                 561  \n",
       "3                 414  \n",
       "4                 410  "
      ]
     },
     "execution_count": 27,
     "metadata": {},
     "output_type": "execute_result"
    }
   ],
   "source": [
    "# Visualizar los primeros 5 registros\n",
    "dataset.head()"
   ]
  },
  {
   "cell_type": "markdown",
   "id": "1d61c053-cc02-4c22-8cce-ca584f51f2f0",
   "metadata": {},
   "source": [
    "Podemos ver que los valores en nuestro conjunto de datos no están muy bien escalados. Los reduciremos antes de entrenar el algoritmo."
   ]
  },
  {
   "cell_type": "code",
   "execution_count": 33,
   "id": "c5429da0-e6ac-45b5-a3b4-b2371f2955f6",
   "metadata": {},
   "outputs": [
    {
     "data": {
      "text/plain": [
       "Index(['Petrol_tax', 'Average_income', 'Paved_Highways',\n",
       "       'Population_Driver_licence(%)', 'Petrol_Consumption'],\n",
       "      dtype='object')"
      ]
     },
     "execution_count": 33,
     "metadata": {},
     "output_type": "execute_result"
    }
   ],
   "source": [
    "# Que columnas tienen los datos?\n",
    "dataset.columns"
   ]
  },
  {
   "cell_type": "code",
   "execution_count": 34,
   "id": "c2963613-70d3-4ff4-bffe-e1af5a25333e",
   "metadata": {},
   "outputs": [
    {
     "data": {
      "text/plain": [
       "(48, 5)"
      ]
     },
     "execution_count": 34,
     "metadata": {},
     "output_type": "execute_result"
    }
   ],
   "source": [
    "# Que tamaño tienen los datos? aparece numero de filas x columnas\n",
    "dataset.shape"
   ]
  },
  {
   "cell_type": "code",
   "execution_count": 9,
   "id": "888423eb-36d3-4bcf-bd59-a054de18c923",
   "metadata": {},
   "outputs": [
    {
     "name": "stdout",
     "output_type": "stream",
     "text": [
      "<class 'pandas.core.frame.DataFrame'>\n",
      "RangeIndex: 48 entries, 0 to 47\n",
      "Data columns (total 5 columns):\n",
      " #   Column                        Non-Null Count  Dtype  \n",
      "---  ------                        --------------  -----  \n",
      " 0   Petrol_tax                    48 non-null     float64\n",
      " 1   Average_income                48 non-null     int64  \n",
      " 2   Paved_Highways                48 non-null     int64  \n",
      " 3   Population_Driver_licence(%)  48 non-null     float64\n",
      " 4   Petrol_Consumption            48 non-null     int64  \n",
      "dtypes: float64(2), int64(3)\n",
      "memory usage: 2.0 KB\n"
     ]
    }
   ],
   "source": [
    "# hay valores nulos en los datos?\n",
    "dataset.info()"
   ]
  },
  {
   "cell_type": "code",
   "execution_count": 36,
   "id": "5b441e59-26f8-43c6-bfc9-509d775203ff",
   "metadata": {},
   "outputs": [
    {
     "data": {
      "text/html": [
       "<div>\n",
       "<style scoped>\n",
       "    .dataframe tbody tr th:only-of-type {\n",
       "        vertical-align: middle;\n",
       "    }\n",
       "\n",
       "    .dataframe tbody tr th {\n",
       "        vertical-align: top;\n",
       "    }\n",
       "\n",
       "    .dataframe thead th {\n",
       "        text-align: right;\n",
       "    }\n",
       "</style>\n",
       "<table border=\"1\" class=\"dataframe\">\n",
       "  <thead>\n",
       "    <tr style=\"text-align: right;\">\n",
       "      <th></th>\n",
       "      <th>Petrol_tax</th>\n",
       "      <th>Average_income</th>\n",
       "      <th>Paved_Highways</th>\n",
       "      <th>Population_Driver_licence(%)</th>\n",
       "      <th>Petrol_Consumption</th>\n",
       "    </tr>\n",
       "  </thead>\n",
       "  <tbody>\n",
       "    <tr>\n",
       "      <th>count</th>\n",
       "      <td>48.000000</td>\n",
       "      <td>48.000000</td>\n",
       "      <td>48.000000</td>\n",
       "      <td>48.000000</td>\n",
       "      <td>48.000000</td>\n",
       "    </tr>\n",
       "    <tr>\n",
       "      <th>mean</th>\n",
       "      <td>7.668333</td>\n",
       "      <td>4241.833333</td>\n",
       "      <td>5565.416667</td>\n",
       "      <td>0.570333</td>\n",
       "      <td>576.770833</td>\n",
       "    </tr>\n",
       "    <tr>\n",
       "      <th>std</th>\n",
       "      <td>0.950770</td>\n",
       "      <td>573.623768</td>\n",
       "      <td>3491.507166</td>\n",
       "      <td>0.055470</td>\n",
       "      <td>111.885816</td>\n",
       "    </tr>\n",
       "    <tr>\n",
       "      <th>min</th>\n",
       "      <td>5.000000</td>\n",
       "      <td>3063.000000</td>\n",
       "      <td>431.000000</td>\n",
       "      <td>0.451000</td>\n",
       "      <td>344.000000</td>\n",
       "    </tr>\n",
       "    <tr>\n",
       "      <th>25%</th>\n",
       "      <td>7.000000</td>\n",
       "      <td>3739.000000</td>\n",
       "      <td>3110.250000</td>\n",
       "      <td>0.529750</td>\n",
       "      <td>509.500000</td>\n",
       "    </tr>\n",
       "    <tr>\n",
       "      <th>50%</th>\n",
       "      <td>7.500000</td>\n",
       "      <td>4298.000000</td>\n",
       "      <td>4735.500000</td>\n",
       "      <td>0.564500</td>\n",
       "      <td>568.500000</td>\n",
       "    </tr>\n",
       "    <tr>\n",
       "      <th>75%</th>\n",
       "      <td>8.125000</td>\n",
       "      <td>4578.750000</td>\n",
       "      <td>7156.000000</td>\n",
       "      <td>0.595250</td>\n",
       "      <td>632.750000</td>\n",
       "    </tr>\n",
       "    <tr>\n",
       "      <th>max</th>\n",
       "      <td>10.000000</td>\n",
       "      <td>5342.000000</td>\n",
       "      <td>17782.000000</td>\n",
       "      <td>0.724000</td>\n",
       "      <td>968.000000</td>\n",
       "    </tr>\n",
       "  </tbody>\n",
       "</table>\n",
       "</div>"
      ],
      "text/plain": [
       "       Petrol_tax  Average_income  Paved_Highways  \\\n",
       "count   48.000000       48.000000       48.000000   \n",
       "mean     7.668333     4241.833333     5565.416667   \n",
       "std      0.950770      573.623768     3491.507166   \n",
       "min      5.000000     3063.000000      431.000000   \n",
       "25%      7.000000     3739.000000     3110.250000   \n",
       "50%      7.500000     4298.000000     4735.500000   \n",
       "75%      8.125000     4578.750000     7156.000000   \n",
       "max     10.000000     5342.000000    17782.000000   \n",
       "\n",
       "       Population_Driver_licence(%)  Petrol_Consumption  \n",
       "count                     48.000000           48.000000  \n",
       "mean                       0.570333          576.770833  \n",
       "std                        0.055470          111.885816  \n",
       "min                        0.451000          344.000000  \n",
       "25%                        0.529750          509.500000  \n",
       "50%                        0.564500          568.500000  \n",
       "75%                        0.595250          632.750000  \n",
       "max                        0.724000          968.000000  "
      ]
     },
     "execution_count": 36,
     "metadata": {},
     "output_type": "execute_result"
    }
   ],
   "source": [
    "# Como se distribuyen las variables numericas\n",
    "# count: conteo, mean: media, std: desviacion estandar, min: minimos, max: maximos, cuantiles: 25% - 50% - 75%\n",
    "dataset.describe()"
   ]
  },
  {
   "cell_type": "markdown",
   "id": "f6dee8aa-37b8-4b2d-820a-8d08357445e7",
   "metadata": {},
   "source": [
    "En esta sección se realizarán dos tareas. La primera tarea es dividir los datos en conjuntos de «atributos» y «etiquetas». Los datos resultantes luego se dividen en conjuntos de entrenamiento y prueba."
   ]
  },
  {
   "cell_type": "markdown",
   "id": "aeb0aad1-4b79-4696-b7b6-eecee879047b",
   "metadata": {},
   "source": [
    "La siguiente secuencia de comandos divide los datos en atributos y etiquetas:"
   ]
  },
  {
   "cell_type": "code",
   "execution_count": 14,
   "id": "ecbb71fb-af23-4334-96a2-1406485f1c9c",
   "metadata": {},
   "outputs": [],
   "source": [
    "X = dataset.iloc[:, 0:4].values\n",
    "y = dataset.iloc[:, 4].values"
   ]
  },
  {
   "cell_type": "markdown",
   "id": "b392be7b-fddc-4c38-87dd-411fc2a133ba",
   "metadata": {},
   "source": [
    "Finalmente, dividamos los datos en conjuntos de entrenamiento y prueba:"
   ]
  },
  {
   "cell_type": "code",
   "execution_count": 15,
   "id": "5b405f77-682e-4059-9e80-db077d7dbfdf",
   "metadata": {},
   "outputs": [],
   "source": [
    "from sklearn.model_selection import train_test_split\n",
    "X_train, X_test, y_train, y_test = train_test_split(X, y, test_size=0.2, random_state=0)"
   ]
  },
  {
   "cell_type": "markdown",
   "id": "6c67937a-e27c-48b1-a472-a31e229de197",
   "metadata": {},
   "source": [
    "Sabemos que nuestro conjunto de datos aún no es un valor escalado, por ejemplo, el campo Average_Income tiene valores en el rango de miles, mientras que Petrol_tax tiene valores en el rango de decenas. Por lo tanto, sería beneficioso escalar nuestros datos (aunque, como se mencionó anteriormente, este paso no es tan importante para el algoritmo de bosques aleatorios). Para hacerlo, usaremos Scikit-Learn’s StandardScaler clase."
   ]
  },
  {
   "cell_type": "code",
   "execution_count": 16,
   "id": "96b0d97e-2327-4134-b2b8-db18749f207d",
   "metadata": {},
   "outputs": [],
   "source": [
    "# Feature Scaling\n",
    "from sklearn.preprocessing import StandardScaler\n",
    "\n",
    "sc = StandardScaler()\n",
    "X_train = sc.fit_transform(X_train)\n",
    "X_test = sc.transform(X_test)"
   ]
  },
  {
   "cell_type": "markdown",
   "id": "a913f936-c2de-4803-ae85-e97c074a2196",
   "metadata": {},
   "source": [
    "Ahora que hemos escalado nuestro conjunto de datos, es hora de entrenar nuestro algoritmo de bosque aleatorio para resolver este problema de regresión."
   ]
  },
  {
   "cell_type": "code",
   "execution_count": 22,
   "id": "da27d160-8f09-4e8d-be30-b49de4764630",
   "metadata": {},
   "outputs": [],
   "source": [
    "from sklearn.ensemble import RandomForestRegressor\n",
    "\n",
    "regressor = RandomForestRegressor(n_estimators=20, random_state=0) #n_estimators contiene el numero de arboles a utilizar\n",
    "regressor.fit(X_train, y_train)\n",
    "y_pred = regressor.predict(X_test)"
   ]
  },
  {
   "cell_type": "markdown",
   "id": "58ea87d1-6b93-4bc5-9757-08f530981c22",
   "metadata": {},
   "source": [
    "Los objetos RandomForestRegressor de la libreria sklearn.ensemble, se utiliza para resolver problemas de regresión mediante un bosque aleatorio. El parámetro más importante de la RandomForestRegressor la clase es la n_estimators parámetro. Este parámetro define la cantidad de árboles en el bosque aleatorio. Empezaremos con n_estimator=20 para ver cómo funciona nuestro algoritmo."
   ]
  },
  {
   "cell_type": "markdown",
   "id": "ddb0209b-de92-4af7-aac6-2501eba4c222",
   "metadata": {},
   "source": [
    "El último y último paso para resolver un problema de Machine Learning es evaluar el rendimiento del algoritmo. Para problemas de regresión, las métricas que se utilizan para evaluar un algoritmo son el error absoluto medio, el error cuadrático medio y el error cuadrático medio."
   ]
  },
  {
   "cell_type": "code",
   "execution_count": 23,
   "id": "23d8a73f-c781-43f2-8037-152a95e2c3dd",
   "metadata": {},
   "outputs": [
    {
     "name": "stdout",
     "output_type": "stream",
     "text": [
      "Mean Absolute Error: 51.76500000000001\n",
      "Mean Squared Error: 4216.166749999999\n",
      "Root Mean Squared Error: 64.93201637097064\n"
     ]
    }
   ],
   "source": [
    "from sklearn import metrics\n",
    "\n",
    "print('Mean Absolute Error:', metrics.mean_absolute_error(y_test, y_pred))\n",
    "print('Mean Squared Error:', metrics.mean_squared_error(y_test, y_pred))\n",
    "print('Root Mean Squared Error:', np.sqrt(metrics.mean_squared_error(y_test, y_pred)))"
   ]
  },
  {
   "cell_type": "markdown",
   "id": "660334eb-094f-4247-9094-1e53b9f16c58",
   "metadata": {},
   "source": [
    "Con 20 árboles, el error cuadrático medio es 64,93, que es superior al 10 por ciento del consumo medio de gasolina, es decir, 576,77. Esto puede indicar, entre otras cosas, que no hemos utilizado suficientes estimadores (árboles)."
   ]
  },
  {
   "cell_type": "markdown",
   "id": "8eb39f3a-a195-41a3-9515-fe41758602de",
   "metadata": {},
   "source": [
    "Si el número de estimadores se cambia a 200, los resultados son los siguientes:"
   ]
  },
  {
   "attachments": {
    "9c311711-3de7-4b71-a6e7-0ba0acd37c9c.JPG": {
     "image/jpeg": "[encoded data removed]"
    }
   },
   "cell_type": "markdown",
   "id": "040a74aa-2a62-4409-9c21-f6fe7598088f",
   "metadata": {},
   "source": [
    "![200Arboles.JPG](attachment:9c311711-3de7-4b71-a6e7-0ba0acd37c9c.JPG)"
   ]
  },
  {
   "cell_type": "markdown",
   "id": "bdd47c79-50ed-459d-aca6-a3bbff78019b",
   "metadata": {
    "tags": []
   },
   "source": [
    "# Parte 2: Uso del bosque aleatorio para la clasificación"
   ]
  },
  {
   "cell_type": "markdown",
   "id": "fa4c7fc1-6811-44a3-bbba-dac47e5debc6",
   "metadata": {
    "tags": []
   },
   "source": [
    "## Definición del problema"
   ]
  },
  {
   "cell_type": "markdown",
   "id": "d5850248-18ed-4846-8172-7c23ce082d3e",
   "metadata": {},
   "source": [
    "La tarea aquí es predecir si un billete de moneda bancaria es auténtico o no basándose en cuatro atributos, es decir, la varianza de la imagen transformada en ondas, la asimetría, la entropía y la curtosis de la imagen."
   ]
  },
  {
   "cell_type": "markdown",
   "id": "67c16e0e-f664-4d1c-b6d1-bbb40aa1b1ba",
   "metadata": {},
   "source": [
    "## Solución"
   ]
  },
  {
   "cell_type": "markdown",
   "id": "a2a1579a-81d0-415a-8a61-c2921ac8de28",
   "metadata": {},
   "source": [
    "Este es un problema de clasificación binaria y usaremos un clasificador de bosque aleatorio para resolver este problema. Los pasos seguidos para resolver este problema serán similares a los pasos realizados para la regresión."
   ]
  },
  {
   "cell_type": "code",
   "execution_count": 1,
   "id": "e136b85b-4c2a-426d-bd33-7e906afd464f",
   "metadata": {},
   "outputs": [],
   "source": [
    "# importar librerias\n",
    "import pandas as pd\n",
    "import numpy as np"
   ]
  },
  {
   "cell_type": "code",
   "execution_count": 2,
   "id": "ce431efb-fcbd-4bb3-8720-5a386005f3d8",
   "metadata": {},
   "outputs": [],
   "source": [
    "# Cragar dataset\n",
    "dataset = pd.read_csv('bill_authentication.csv')"
   ]
  },
  {
   "cell_type": "code",
   "execution_count": 3,
   "id": "86c3c004-68ce-426b-a730-f1236ab5ced4",
   "metadata": {},
   "outputs": [
    {
     "data": {
      "text/html": [
       "<div>\n",
       "<style scoped>\n",
       "    .dataframe tbody tr th:only-of-type {\n",
       "        vertical-align: middle;\n",
       "    }\n",
       "\n",
       "    .dataframe tbody tr th {\n",
       "        vertical-align: top;\n",
       "    }\n",
       "\n",
       "    .dataframe thead th {\n",
       "        text-align: right;\n",
       "    }\n",
       "</style>\n",
       "<table border=\"1\" class=\"dataframe\">\n",
       "  <thead>\n",
       "    <tr style=\"text-align: right;\">\n",
       "      <th></th>\n",
       "      <th>Variance</th>\n",
       "      <th>Skewness</th>\n",
       "      <th>Curtosis</th>\n",
       "      <th>Entropy</th>\n",
       "      <th>Class</th>\n",
       "    </tr>\n",
       "  </thead>\n",
       "  <tbody>\n",
       "    <tr>\n",
       "      <th>0</th>\n",
       "      <td>3.62160</td>\n",
       "      <td>8.6661</td>\n",
       "      <td>-2.8073</td>\n",
       "      <td>-0.44699</td>\n",
       "      <td>0</td>\n",
       "    </tr>\n",
       "    <tr>\n",
       "      <th>1</th>\n",
       "      <td>4.54590</td>\n",
       "      <td>8.1674</td>\n",
       "      <td>-2.4586</td>\n",
       "      <td>-1.46210</td>\n",
       "      <td>0</td>\n",
       "    </tr>\n",
       "    <tr>\n",
       "      <th>2</th>\n",
       "      <td>3.86600</td>\n",
       "      <td>-2.6383</td>\n",
       "      <td>1.9242</td>\n",
       "      <td>0.10645</td>\n",
       "      <td>0</td>\n",
       "    </tr>\n",
       "    <tr>\n",
       "      <th>3</th>\n",
       "      <td>3.45660</td>\n",
       "      <td>9.5228</td>\n",
       "      <td>-4.0112</td>\n",
       "      <td>-3.59440</td>\n",
       "      <td>0</td>\n",
       "    </tr>\n",
       "    <tr>\n",
       "      <th>4</th>\n",
       "      <td>0.32924</td>\n",
       "      <td>-4.4552</td>\n",
       "      <td>4.5718</td>\n",
       "      <td>-0.98880</td>\n",
       "      <td>0</td>\n",
       "    </tr>\n",
       "  </tbody>\n",
       "</table>\n",
       "</div>"
      ],
      "text/plain": [
       "   Variance  Skewness  Curtosis  Entropy  Class\n",
       "0   3.62160    8.6661   -2.8073 -0.44699      0\n",
       "1   4.54590    8.1674   -2.4586 -1.46210      0\n",
       "2   3.86600   -2.6383    1.9242  0.10645      0\n",
       "3   3.45660    9.5228   -4.0112 -3.59440      0\n",
       "4   0.32924   -4.4552    4.5718 -0.98880      0"
      ]
     },
     "execution_count": 3,
     "metadata": {},
     "output_type": "execute_result"
    }
   ],
   "source": [
    "# Visualizar los primeros 5 registros\n",
    "dataset.head()"
   ]
  },
  {
   "cell_type": "markdown",
   "id": "b4444807-2086-4699-9c81-2993efff204d",
   "metadata": {},
   "source": [
    "Como fue el caso con el conjunto de datos de regresión, los valores en este conjunto de datos no están muy bien escalados. El conjunto de datos se escalará antes de entrenar el algoritmo."
   ]
  },
  {
   "cell_type": "markdown",
   "id": "2d2611e8-886a-4acb-849f-bfbc95e53787",
   "metadata": {},
   "source": [
    "## Exploracion de datos"
   ]
  },
  {
   "cell_type": "code",
   "execution_count": 4,
   "id": "c57aadec-e818-4d25-ad26-98f426d0881f",
   "metadata": {},
   "outputs": [
    {
     "data": {
      "text/plain": [
       "Index(['Variance', 'Skewness', 'Curtosis', 'Entropy', 'Class'], dtype='object')"
      ]
     },
     "execution_count": 4,
     "metadata": {},
     "output_type": "execute_result"
    }
   ],
   "source": [
    "# Que columnas tienen los datos?\n",
    "dataset.columns"
   ]
  },
  {
   "cell_type": "code",
   "execution_count": 5,
   "id": "5aed40e4-3f8f-4aa0-b570-0f56f43ad504",
   "metadata": {},
   "outputs": [
    {
     "data": {
      "text/plain": [
       "(1372, 5)"
      ]
     },
     "execution_count": 5,
     "metadata": {},
     "output_type": "execute_result"
    }
   ],
   "source": [
    "# Que tamaño tienen los datos? aparece numero de filas x columnas\n",
    "dataset.shape"
   ]
  },
  {
   "cell_type": "code",
   "execution_count": 6,
   "id": "5562af92-b391-4b25-bd86-0a774a450452",
   "metadata": {},
   "outputs": [
    {
     "name": "stdout",
     "output_type": "stream",
     "text": [
      "<class 'pandas.core.frame.DataFrame'>\n",
      "RangeIndex: 1372 entries, 0 to 1371\n",
      "Data columns (total 5 columns):\n",
      " #   Column    Non-Null Count  Dtype  \n",
      "---  ------    --------------  -----  \n",
      " 0   Variance  1372 non-null   float64\n",
      " 1   Skewness  1372 non-null   float64\n",
      " 2   Curtosis  1372 non-null   float64\n",
      " 3   Entropy   1372 non-null   float64\n",
      " 4   Class     1372 non-null   int64  \n",
      "dtypes: float64(4), int64(1)\n",
      "memory usage: 53.7 KB\n"
     ]
    }
   ],
   "source": [
    "# Hay valores nulos en los datos?\n",
    "dataset.info()"
   ]
  },
  {
   "cell_type": "code",
   "execution_count": 7,
   "id": "33d1798a-ce6c-4a26-8314-e4e429cb8d1e",
   "metadata": {},
   "outputs": [
    {
     "data": {
      "text/html": [
       "<div>\n",
       "<style scoped>\n",
       "    .dataframe tbody tr th:only-of-type {\n",
       "        vertical-align: middle;\n",
       "    }\n",
       "\n",
       "    .dataframe tbody tr th {\n",
       "        vertical-align: top;\n",
       "    }\n",
       "\n",
       "    .dataframe thead th {\n",
       "        text-align: right;\n",
       "    }\n",
       "</style>\n",
       "<table border=\"1\" class=\"dataframe\">\n",
       "  <thead>\n",
       "    <tr style=\"text-align: right;\">\n",
       "      <th></th>\n",
       "      <th>Variance</th>\n",
       "      <th>Skewness</th>\n",
       "      <th>Curtosis</th>\n",
       "      <th>Entropy</th>\n",
       "      <th>Class</th>\n",
       "    </tr>\n",
       "  </thead>\n",
       "  <tbody>\n",
       "    <tr>\n",
       "      <th>count</th>\n",
       "      <td>1372.000000</td>\n",
       "      <td>1372.000000</td>\n",
       "      <td>1372.000000</td>\n",
       "      <td>1372.000000</td>\n",
       "      <td>1372.000000</td>\n",
       "    </tr>\n",
       "    <tr>\n",
       "      <th>mean</th>\n",
       "      <td>0.433735</td>\n",
       "      <td>1.922353</td>\n",
       "      <td>1.397627</td>\n",
       "      <td>-1.191657</td>\n",
       "      <td>0.444606</td>\n",
       "    </tr>\n",
       "    <tr>\n",
       "      <th>std</th>\n",
       "      <td>2.842763</td>\n",
       "      <td>5.869047</td>\n",
       "      <td>4.310030</td>\n",
       "      <td>2.101013</td>\n",
       "      <td>0.497103</td>\n",
       "    </tr>\n",
       "    <tr>\n",
       "      <th>min</th>\n",
       "      <td>-7.042100</td>\n",
       "      <td>-13.773100</td>\n",
       "      <td>-5.286100</td>\n",
       "      <td>-8.548200</td>\n",
       "      <td>0.000000</td>\n",
       "    </tr>\n",
       "    <tr>\n",
       "      <th>25%</th>\n",
       "      <td>-1.773000</td>\n",
       "      <td>-1.708200</td>\n",
       "      <td>-1.574975</td>\n",
       "      <td>-2.413450</td>\n",
       "      <td>0.000000</td>\n",
       "    </tr>\n",
       "    <tr>\n",
       "      <th>50%</th>\n",
       "      <td>0.496180</td>\n",
       "      <td>2.319650</td>\n",
       "      <td>0.616630</td>\n",
       "      <td>-0.586650</td>\n",
       "      <td>0.000000</td>\n",
       "    </tr>\n",
       "    <tr>\n",
       "      <th>75%</th>\n",
       "      <td>2.821475</td>\n",
       "      <td>6.814625</td>\n",
       "      <td>3.179250</td>\n",
       "      <td>0.394810</td>\n",
       "      <td>1.000000</td>\n",
       "    </tr>\n",
       "    <tr>\n",
       "      <th>max</th>\n",
       "      <td>6.824800</td>\n",
       "      <td>12.951600</td>\n",
       "      <td>17.927400</td>\n",
       "      <td>2.449500</td>\n",
       "      <td>1.000000</td>\n",
       "    </tr>\n",
       "  </tbody>\n",
       "</table>\n",
       "</div>"
      ],
      "text/plain": [
       "          Variance     Skewness     Curtosis      Entropy        Class\n",
       "count  1372.000000  1372.000000  1372.000000  1372.000000  1372.000000\n",
       "mean      0.433735     1.922353     1.397627    -1.191657     0.444606\n",
       "std       2.842763     5.869047     4.310030     2.101013     0.497103\n",
       "min      -7.042100   -13.773100    -5.286100    -8.548200     0.000000\n",
       "25%      -1.773000    -1.708200    -1.574975    -2.413450     0.000000\n",
       "50%       0.496180     2.319650     0.616630    -0.586650     0.000000\n",
       "75%       2.821475     6.814625     3.179250     0.394810     1.000000\n",
       "max       6.824800    12.951600    17.927400     2.449500     1.000000"
      ]
     },
     "execution_count": 7,
     "metadata": {},
     "output_type": "execute_result"
    }
   ],
   "source": [
    "# Como se distribuyen las variables numericas\n",
    "# count: conteo, mean: media, std: desviacion estandar, min: minimos, max: maximos, cuantiles: 25% - 50% - 75%\n",
    "dataset.describe()"
   ]
  },
  {
   "cell_type": "markdown",
   "id": "702fae7a-af3c-4a5b-af81-977cf027dd10",
   "metadata": {},
   "source": [
    "## Preparación de datos para la formación"
   ]
  },
  {
   "cell_type": "markdown",
   "id": "147ce34a-3101-4486-8595-a0e2f8c04a5f",
   "metadata": {},
   "source": [
    "El siguiente código divide los datos en atributos y etiquetas:"
   ]
  },
  {
   "cell_type": "code",
   "execution_count": 17,
   "id": "1490dc5d-41aa-436c-967c-5bbbf5de4c18",
   "metadata": {},
   "outputs": [],
   "source": [
    "X = dataset.iloc[:, 0:4].values\n",
    "y = dataset.iloc[:, 4].values"
   ]
  },
  {
   "cell_type": "markdown",
   "id": "2a282f50-c48a-4c06-8404-32f6f6368c96",
   "metadata": {},
   "source": [
    "El siguiente código divide los datos en conjuntos de entrenamiento y prueba:"
   ]
  },
  {
   "cell_type": "code",
   "execution_count": 9,
   "id": "b676dcc6-bd24-4a05-a09d-41dd41dbcc71",
   "metadata": {},
   "outputs": [],
   "source": [
    "from sklearn.model_selection import train_test_split\n",
    "\n",
    "X_train, X_test, y_train, y_test = train_test_split(X, y, test_size=0.2, random_state=0)"
   ]
  },
  {
   "cell_type": "markdown",
   "id": "d50e4efa-3ba4-41a6-bb7e-74ad55826f99",
   "metadata": {},
   "source": [
    "## Escala de funciones"
   ]
  },
  {
   "cell_type": "markdown",
   "id": "a975440c-eef0-4ad6-b84d-6fb2493b1b0c",
   "metadata": {},
   "source": [
    "Como antes, el escalado de características funciona de la misma manera:"
   ]
  },
  {
   "cell_type": "code",
   "execution_count": 10,
   "id": "c7004253-7009-4c32-83e4-95f44292d530",
   "metadata": {},
   "outputs": [],
   "source": [
    "# Feature Scaling\n",
    "from sklearn.preprocessing import StandardScaler\n",
    "\n",
    "sc = StandardScaler()\n",
    "X_train = sc.fit_transform(X_train)\n",
    "X_test = sc.transform(X_test)"
   ]
  },
  {
   "cell_type": "markdown",
   "id": "d6ff3e80-3292-46bc-8d93-0cd917d56452",
   "metadata": {},
   "source": [
    "## Entrenamiento del algoritmo"
   ]
  },
  {
   "cell_type": "markdown",
   "id": "fef5a568-b960-4ca1-82ee-65e2971ebe25",
   "metadata": {},
   "source": [
    "Y nuevamente, ahora que hemos escalado nuestro conjunto de datos, podemos entrenar nuestros bosques aleatorios para resolver este problema de clasificación."
   ]
  },
  {
   "cell_type": "code",
   "execution_count": 25,
   "id": "10f08bfa-53e1-4422-956d-99d85ce72813",
   "metadata": {},
   "outputs": [],
   "source": [
    "from sklearn.ensemble import RandomForestRegressor\n",
    "\n",
    "regressor = RandomForestRegressor(n_estimators=20, random_state=0)\n",
    "regressor.fit(X_train, y_train)\n",
    "y_pred = regressor.predict(X_test)"
   ]
  },
  {
   "cell_type": "markdown",
   "id": "5133845c-b899-4ecb-b643-89c5cb819340",
   "metadata": {},
   "source": [
    "En caso de regresión usamos el RandomForestRegressor clase de la biblioteca sklearn.ensemble. Para la clasificación, haremos RandomForestClassifier clase de la biblioteca sklearn.ensemble. RandomForestClassifier la clase también toma n_estimators como parámetro. Como antes, este parámetro define la cantidad de árboles en nuestro bosque aleatorio. Empezaremos con 20 árboles nuevamente. "
   ]
  },
  {
   "cell_type": "markdown",
   "id": "65e38008-7bfd-433d-b31f-c51fc340a678",
   "metadata": {},
   "source": [
    "## Evaluación del algoritmo"
   ]
  },
  {
   "cell_type": "markdown",
   "id": "50449678-5fa1-4199-98cf-7a0c81f90ecd",
   "metadata": {},
   "source": [
    "Para los problemas de clasificación, las métricas que se utilizan para evaluar un algoritmo son la precisión, la matriz de confusión, la recuperación de precisión y los valores F1."
   ]
  },
  {
   "cell_type": "code",
   "execution_count": 27,
   "id": "9cae9694-728e-46e4-a95d-1fe26fb3a578",
   "metadata": {},
   "outputs": [
    {
     "name": "stdout",
     "output_type": "stream",
     "text": [
      "[[155   2]\n",
      " [  0 118]]\n",
      "              precision    recall  f1-score   support\n",
      "\n",
      "           0       1.00      0.99      0.99       157\n",
      "           1       0.98      1.00      0.99       118\n",
      "\n",
      "    accuracy                           0.99       275\n",
      "   macro avg       0.99      0.99      0.99       275\n",
      "weighted avg       0.99      0.99      0.99       275\n",
      "\n",
      "0.9927272727272727\n"
     ]
    }
   ],
   "source": [
    "from sklearn.metrics import classification_report, confusion_matrix, accuracy_score\n",
    "\n",
    "print(confusion_matrix(y_test,y_pred.round()))\n",
    "print(classification_report(y_test,y_pred.round()))\n",
    "print(accuracy_score(y_test, y_pred.round()))"
   ]
  },
  {
   "cell_type": "markdown",
   "id": "80103968-5b96-4c6c-9e98-d0b5c4ac289c",
   "metadata": {},
   "source": [
    "## Conclución"
   ]
  },
  {
   "cell_type": "markdown",
   "id": "1d6baa5d-274f-4f73-a153-9074a524e32a",
   "metadata": {},
   "source": [
    "La precisión alcanzada por nuestro clasificador de bosques aleatorio con 20 árboles es del 99,27%. A diferencia de antes, cambiar el número de estimadores para este problema no mejoría significativamente los resultados, como se muestra en el siguiente cuadro. Aquí, el eje X contiene el número de estimadores, mientras que el eje Y muestra la precisión.\n",
    "\n",
    "El 99,27% es una precisión bastante buena, por lo que no tiene mucho sentido aumentar nuestro número de estimadores y arriesgar\n",
    "a que el procesamiento de la maquina sea más lento."
   ]
  }
 ],
 "metadata": {
  "kernelspec": {
   "display_name": "Python 3 (ipykernel)",
   "language": "python",
   "name": "python3"
  },
  "language_info": {
   "codemirror_mode": {
    "name": "ipython",
    "version": 3
   },
   "file_extension": ".py",
   "mimetype": "text/x-python",
   "name": "python",
   "nbconvert_exporter": "python",
   "pygments_lexer": "ipython3",
   "version": "3.9.12"
  }
 },
 "nbformat": 4,
 "nbformat_minor": 5
}
